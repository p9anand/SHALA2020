{
  "nbformat": 4,
  "nbformat_minor": 0,
  "metadata": {
    "colab": {
      "name": "Assignment -1 - DS.ipynb",
      "provenance": [],
      "collapsed_sections": [],
      "include_colab_link": true
    },
    "kernelspec": {
      "name": "python3",
      "display_name": "Python 3"
    }
  },
  "cells": [
    {
      "cell_type": "markdown",
      "metadata": {
        "id": "view-in-github",
        "colab_type": "text"
      },
      "source": [
        "<a href=\"https://colab.research.google.com/github/p9anand/SHALA2020/blob/master/Assignment_1_DS.ipynb\" target=\"_parent\"><img src=\"https://colab.research.google.com/assets/colab-badge.svg\" alt=\"Open In Colab\"/></a>"
      ]
    },
    {
      "cell_type": "markdown",
      "metadata": {
        "id": "hmr2U-GChnlR",
        "colab_type": "text"
      },
      "source": [
        "\n",
        "# **Assignment - 1 : Getting Started**\n",
        "\n",
        "---\n",
        "\n",
        "This assignment will get you familiarized with python libraries required for ***data science*** and ***machine learning***. You will have to complete the code snippets and run them. "
      ]
    },
    {
      "cell_type": "markdown",
      "metadata": {
        "id": "211pD45xEO0u",
        "colab_type": "text"
      },
      "source": [
        "## **Note :**   Use only the methods and attributes of the ```numpy``` library. **Do not** hard-code them. Avoid loops as much as possible."
      ]
    },
    {
      "cell_type": "markdown",
      "metadata": {
        "id": "O7v9C4mun3SQ",
        "colab_type": "text"
      },
      "source": [
        "---\n",
        "## Part - 1\n",
        " In this part, you will work with the library ```numpy```. \n",
        "\n",
        "\n"
      ]
    },
    {
      "cell_type": "markdown",
      "metadata": {
        "id": "846yDaXQwiMD",
        "colab_type": "text"
      },
      "source": [
        "Import ```numpy``` with an alias name ```np```. Initialize two arrays $a$, $b$ of size $3 \\times 5$ with random values and print them. "
      ]
    },
    {
      "cell_type": "code",
      "metadata": {
        "id": "_MyeCO3_o3oq",
        "colab_type": "code",
        "colab": {
          "base_uri": "https://localhost:8080/",
          "height": 119
        },
        "outputId": "300ceda9-7264-4b7c-e34c-1acb18959da6"
      },
      "source": [
        "import numpy as np \n",
        "\n",
        "a = np.random.rand(3,5)\n",
        "b = np.random.rand(3,5)\n",
        "print(a)\n",
        "print(b)"
      ],
      "execution_count": 11,
      "outputs": [
        {
          "output_type": "stream",
          "text": [
            "[[0.50539614 0.31667435 0.46710546 0.95169697 0.54171951]\n",
            " [0.01940793 0.25902208 0.67299545 0.236115   0.52731506]\n",
            " [0.1087257  0.41667321 0.38597015 0.249662   0.09299636]]\n",
            "[[0.4090223  0.98075757 0.45185434 0.85413244 0.96380021]\n",
            " [0.77423134 0.8891232  0.9548215  0.22319316 0.88937177]\n",
            " [0.33281015 0.1823839  0.70343938 0.53856787 0.43906193]]\n"
          ],
          "name": "stdout"
        }
      ]
    },
    {
      "cell_type": "markdown",
      "metadata": {
        "id": "p7jtpYT4wiO6",
        "colab_type": "text"
      },
      "source": [
        "Initialize and print two arrays $c$ and $d$ having the following properties:\n",
        "*   $c$ is a row vector with all positive integer values less than 100\n",
        "* $d$ is a square matrix of size 3 having all entries as 0.0"
      ]
    },
    {
      "cell_type": "code",
      "metadata": {
        "id": "a2lJdRf8x9f2",
        "colab_type": "code",
        "colab": {
          "base_uri": "https://localhost:8080/",
          "height": 153
        },
        "outputId": "22721773-f519-49d4-e99c-50700a7066c7"
      },
      "source": [
        "c = np.random.randint(100, size=(100, ))\n",
        "print(c)\n",
        "d = np.zeros(shape=(3,3))\n",
        "print(d)"
      ],
      "execution_count": 32,
      "outputs": [
        {
          "output_type": "stream",
          "text": [
            "[17 62 69 67 47 95  4 71 94 77 82 58 31 15 20 56  6 23 98 39 36  0 41 39\n",
            " 81 33 83 92 85 39 30 63 84 54 63 13 79 39 32 38 42  6 14 26 50 16 45 53\n",
            " 93 86 81 83 22 37 37 69 95 36 84 65  3 60 39  2 10 61  9 18 21 27 67 62\n",
            " 42 82 85  1 29 31 51 37 14 76 81 17 68 45 85  2  0 26 43 48 45 99 46 49\n",
            " 15 98  9 33]\n",
            "[[0. 0. 0.]\n",
            " [0. 0. 0.]\n",
            " [0. 0. 0.]]\n"
          ],
          "name": "stdout"
        }
      ]
    },
    {
      "cell_type": "markdown",
      "metadata": {
        "id": "qqgtSsa88Zmh",
        "colab_type": "text"
      },
      "source": [
        "We have $e$ as following : ```e = [[1,2,3],[4,5,6],[7,8,9]]```. Change $e$ as a numpy array and print it."
      ]
    },
    {
      "cell_type": "code",
      "metadata": {
        "id": "Krhm4bVE7RET",
        "colab_type": "code",
        "colab": {
          "base_uri": "https://localhost:8080/",
          "height": 68
        },
        "outputId": "ded9b82a-4bb6-4863-e65b-c527e52381bc"
      },
      "source": [
        "e = [[1,2,3],[4,5,6],[7,8,9]]\n",
        "e = np.array(e)\n",
        "print(e)"
      ],
      "execution_count": 19,
      "outputs": [
        {
          "output_type": "stream",
          "text": [
            "[[1 2 3]\n",
            " [4 5 6]\n",
            " [7 8 9]]\n"
          ],
          "name": "stdout"
        }
      ]
    },
    {
      "cell_type": "markdown",
      "metadata": {
        "id": "1qTikI0foam9",
        "colab_type": "text"
      },
      "source": [
        "$f$ and $g$ are two square matrices of size 5 such that all the entries of $f$ are 1 and $g$ is an identity matrix. Initialize them and print them"
      ]
    },
    {
      "cell_type": "code",
      "metadata": {
        "id": "DvaLckI49aBV",
        "colab_type": "code",
        "colab": {
          "base_uri": "https://localhost:8080/",
          "height": 187
        },
        "outputId": "c3d8bb43-bfeb-4955-cfd5-48f6dde593f4"
      },
      "source": [
        "f = np.ones(shape=(5, 5))\n",
        "print(f)\n",
        "g = np.eye(5)\n",
        "print(g)"
      ],
      "execution_count": 23,
      "outputs": [
        {
          "output_type": "stream",
          "text": [
            "[[1. 1. 1. 1. 1.]\n",
            " [1. 1. 1. 1. 1.]\n",
            " [1. 1. 1. 1. 1.]\n",
            " [1. 1. 1. 1. 1.]\n",
            " [1. 1. 1. 1. 1.]]\n",
            "[[1. 0. 0. 0. 0.]\n",
            " [0. 1. 0. 0. 0.]\n",
            " [0. 0. 1. 0. 0.]\n",
            " [0. 0. 0. 1. 0.]\n",
            " [0. 0. 0. 0. 1.]]\n"
          ],
          "name": "stdout"
        }
      ]
    },
    {
      "cell_type": "markdown",
      "metadata": {
        "id": "gcBZAZibAKcg",
        "colab_type": "text"
      },
      "source": [
        "Reshape $c$ into a $10 \\times 10$ matrix and name it $h$. Now flatten $h$, call it $c^\\prime$ and print **YES** when the shapes of $c$ and $c^\\prime$ are same. Otherwise print **NO**."
      ]
    },
    {
      "cell_type": "code",
      "metadata": {
        "id": "I71vtO9bA9Pi",
        "colab_type": "code",
        "colab": {
          "base_uri": "https://localhost:8080/",
          "height": 238
        },
        "outputId": "64948cc6-266d-4850-96df-114f60156869"
      },
      "source": [
        "print(c.shape)\n",
        "h = np.reshape(c, (10, 10))\n",
        "print(h)\n",
        "c_prime = h.flatten()\n",
        "print(c_prime.shape)\n",
        "\n",
        "if c_prime.shape==c.shape:\n",
        "    print('YES')\n",
        "else:\n",
        "    print('NO')"
      ],
      "execution_count": 33,
      "outputs": [
        {
          "output_type": "stream",
          "text": [
            "(100,)\n",
            "[[17 62 69 67 47 95  4 71 94 77]\n",
            " [82 58 31 15 20 56  6 23 98 39]\n",
            " [36  0 41 39 81 33 83 92 85 39]\n",
            " [30 63 84 54 63 13 79 39 32 38]\n",
            " [42  6 14 26 50 16 45 53 93 86]\n",
            " [81 83 22 37 37 69 95 36 84 65]\n",
            " [ 3 60 39  2 10 61  9 18 21 27]\n",
            " [67 62 42 82 85  1 29 31 51 37]\n",
            " [14 76 81 17 68 45 85  2  0 26]\n",
            " [43 48 45 99 46 49 15 98  9 33]]\n",
            "(100,)\n",
            "YES\n"
          ],
          "name": "stdout"
        }
      ]
    },
    {
      "cell_type": "markdown",
      "metadata": {
        "id": "8FrecDPiA-Bv",
        "colab_type": "text"
      },
      "source": [
        "Let $A$ denote a randomly initialized three dimensional matrix of shape (2,10,5). Transpose $A$, call it $A^\\prime$, such that its shape is (5,2,10) and print it."
      ]
    },
    {
      "cell_type": "code",
      "metadata": {
        "id": "VbOKqSm6Bkaq",
        "colab_type": "code",
        "colab": {
          "base_uri": "https://localhost:8080/",
          "height": 782
        },
        "outputId": "e819d94e-98da-4545-994a-8f9c56dcb713"
      },
      "source": [
        "A = np.random.rand(2,10,5)\n",
        "print(A)\n",
        "A_prime = A.T.reshape((5, 2, 10))\n",
        "# print(A_prime.reshape((5, 2, 10)))\n",
        "print(A_prime)"
      ],
      "execution_count": 38,
      "outputs": [
        {
          "output_type": "stream",
          "text": [
            "[[[0.2581792  0.33636158 0.128374   0.54430996 0.98433225]\n",
            "  [0.92932361 0.89459157 0.20055625 0.01457847 0.93735122]\n",
            "  [0.4086338  0.95301817 0.71604785 0.41011813 0.82013092]\n",
            "  [0.68887611 0.13052754 0.8159529  0.20600539 0.50998468]\n",
            "  [0.30862468 0.69275034 0.93714746 0.67367126 0.21495537]\n",
            "  [0.49467115 0.77958034 0.99970897 0.29651839 0.79620738]\n",
            "  [0.11367112 0.9889092  0.84460853 0.07438283 0.252587  ]\n",
            "  [0.36651407 0.10148154 0.8534404  0.15064981 0.58497258]\n",
            "  [0.92463151 0.82300136 0.32771336 0.10079159 0.06004216]\n",
            "  [0.0081948  0.92707624 0.60856443 0.65186032 0.27517178]]\n",
            "\n",
            " [[0.51610421 0.52968333 0.29781245 0.60968004 0.36200206]\n",
            "  [0.07837614 0.24117935 0.45302653 0.86784596 0.44436158]\n",
            "  [0.1193462  0.42230704 0.99548335 0.95954083 0.91320151]\n",
            "  [0.10957599 0.48606888 0.41215131 0.114983   0.0201487 ]\n",
            "  [0.90858218 0.13904851 0.3843698  0.77769596 0.10156229]\n",
            "  [0.68318464 0.76868942 0.45660269 0.5762814  0.42343429]\n",
            "  [0.33996794 0.56031986 0.61505147 0.68162601 0.5520108 ]\n",
            "  [0.6066884  0.01792503 0.24879156 0.69226137 0.36724786]\n",
            "  [0.74371876 0.33437185 0.44005359 0.49202173 0.91880238]\n",
            "  [0.57238136 0.09367091 0.03366154 0.12802674 0.25367797]]]\n",
            "[[[0.2581792  0.51610421 0.92932361 0.07837614 0.4086338  0.1193462\n",
            "   0.68887611 0.10957599 0.30862468 0.90858218]\n",
            "  [0.49467115 0.68318464 0.11367112 0.33996794 0.36651407 0.6066884\n",
            "   0.92463151 0.74371876 0.0081948  0.57238136]]\n",
            "\n",
            " [[0.33636158 0.52968333 0.89459157 0.24117935 0.95301817 0.42230704\n",
            "   0.13052754 0.48606888 0.69275034 0.13904851]\n",
            "  [0.77958034 0.76868942 0.9889092  0.56031986 0.10148154 0.01792503\n",
            "   0.82300136 0.33437185 0.92707624 0.09367091]]\n",
            "\n",
            " [[0.128374   0.29781245 0.20055625 0.45302653 0.71604785 0.99548335\n",
            "   0.8159529  0.41215131 0.93714746 0.3843698 ]\n",
            "  [0.99970897 0.45660269 0.84460853 0.61505147 0.8534404  0.24879156\n",
            "   0.32771336 0.44005359 0.60856443 0.03366154]]\n",
            "\n",
            " [[0.54430996 0.60968004 0.01457847 0.86784596 0.41011813 0.95954083\n",
            "   0.20600539 0.114983   0.67367126 0.77769596]\n",
            "  [0.29651839 0.5762814  0.07438283 0.68162601 0.15064981 0.69226137\n",
            "   0.10079159 0.49202173 0.65186032 0.12802674]]\n",
            "\n",
            " [[0.98433225 0.36200206 0.93735122 0.44436158 0.82013092 0.91320151\n",
            "   0.50998468 0.0201487  0.21495537 0.10156229]\n",
            "  [0.79620738 0.42343429 0.252587   0.5520108  0.58497258 0.36724786\n",
            "   0.06004216 0.91880238 0.27517178 0.25367797]]]\n"
          ],
          "name": "stdout"
        }
      ]
    },
    {
      "cell_type": "markdown",
      "metadata": {
        "id": "xR2zd-nkCani",
        "colab_type": "text"
      },
      "source": [
        "You have a matrix $X$ of size (10,5) filled with random values. Print the following :\n",
        "* Minimum value and index where it occured, for each column\n",
        "* Maximum value and the index where it occured, for each column\n",
        "* Minimum value and index where it occured, for each row\n",
        "* Maximum value and index where it occured, for each row\n",
        "* Minimum value and index where it occured, for the entire matrix\n",
        "* Maximum value and index where it occured, for the entire matrix"
      ]
    },
    {
      "cell_type": "code",
      "metadata": {
        "id": "FR2Wd4fWD_Og",
        "colab_type": "code",
        "colab": {
          "base_uri": "https://localhost:8080/",
          "height": 238
        },
        "outputId": "55c74432-4601-4bdd-fb4a-153c2d616abd"
      },
      "source": [
        "np.random.seed(0)\n",
        "X = np.random.rand(10,5)\n",
        "print(f'Minimum value of array X along columns: {np.amin(X, axis=0)} and corresponding index: {np.argmin(X, axis=0)}')\n",
        "print('------------')\n",
        "print(f'Maximum value of array X along columns: {np.amax(X, axis=0)} and corresponding index: {np.argmax(X, axis=0)}')\n",
        "print('------------')\n",
        "print(f'Minimum value of array X along row: {np.amin(X, axis=1)} and corresponding index: {np.argmin(X, axis=1)}')\n",
        "print('------------')\n",
        "print(f'Maximum value of array X along row: {np.amax(X, axis=1)} and corresponding index: {np.argmax(X, axis=1)}')\n",
        "print('------------')\n",
        "print(f'Minimum value of array X overall: {np.amin(X)} and corresponding index: {np.argmin(X)}')\n",
        "print('------------')\n",
        "print(f'Maximum value of array X overall: {np.amax(X)} and corresponding index: {np.argmax(X)}')"
      ],
      "execution_count": 53,
      "outputs": [
        {
          "output_type": "stream",
          "text": [
            "Minimum value of array X along columns: [0.0871293  0.0202184  0.1289263  0.06022547 0.0187898 ] and corresponding index: [3 3 9 8 6]\n",
            "------------\n",
            "Maximum value of array X along columns: [0.97861834 0.79915856 0.94466892 0.96366276 0.87001215] and corresponding index: [4 4 5 1 3]\n",
            "------------\n",
            "Minimum value of array X along row: [0.4236548  0.38344152 0.07103606 0.0202184  0.11827443 0.14335329\n",
            " 0.0187898  0.61209572 0.06022547 0.1289263 ] and corresponding index: [4 4 4 1 4 1 4 1 3 2]\n",
            "------------\n",
            "Maximum value of array X along row: [0.71518937 0.96366276 0.92559664 0.87001215 0.97861834 0.94466892\n",
            " 0.77423369 0.94374808 0.6976312  0.67063787] and corresponding index: [1 3 3 4 0 2 1 3 2 0]\n",
            "------------\n",
            "Minimum value of array X overall: 0.018789800436355142 and corresponding index: 34\n",
            "------------\n",
            "Maximum value of array X overall: 0.978618342232764 and corresponding index: 20\n"
          ],
          "name": "stdout"
        }
      ]
    },
    {
      "cell_type": "markdown",
      "metadata": {
        "id": "YpjW2ypkEGtS",
        "colab_type": "text"
      },
      "source": [
        "Find and print the following for the matrix X: \n",
        "* Mean of each row and column\n",
        "* Standard deviation of each row and column\n",
        "* Mean of the entire matrix\n",
        "* Standard deviation of entire matrix"
      ]
    },
    {
      "cell_type": "code",
      "metadata": {
        "id": "gMdm2pw0GWjf",
        "colab_type": "code",
        "colab": {
          "base_uri": "https://localhost:8080/",
          "height": 119
        },
        "outputId": "682a9466-065b-4106-94bb-b5362f7c9eb4"
      },
      "source": [
        "print(f'mean of X along row: {X.mean(axis=1)} and along column: {X.mean(axis=0)}')\n",
        "print(f'standard deviation of X along row: {X.std(axis=1)} and along column: {X.std(axis=0)}')\n",
        "print(f'mean of the entire matrix is: {X.mean()}')\n",
        "print(f'standard deviation of entire matrix is: {X.std()}')"
      ],
      "execution_count": 56,
      "outputs": [
        {
          "output_type": "stream",
          "text": [
            "mean of X along row: [0.56706085 0.66447172 0.57705944 0.51762729 0.62761197 0.5328907\n",
            " 0.41643268 0.69444672 0.44423265 0.33781717] and along column: [0.56044382 0.46781457 0.62009909 0.64025127 0.40121685]\n",
            "standard deviation of X along row: [0.09445299 0.23322986 0.29189733 0.38052993 0.30431633 0.26338419\n",
            " 0.25841437 0.12727959 0.23169975 0.18537332] and along column: [0.24687647 0.25752158 0.22948615 0.28054144 0.26584905]\n",
            "mean of the entire matrix is: 0.5379651182755409\n",
            "standard deviation of entire matrix is: 0.27226582292177587\n"
          ],
          "name": "stdout"
        }
      ]
    },
    {
      "cell_type": "markdown",
      "metadata": {
        "id": "7dw7W8HOGXKA",
        "colab_type": "text"
      },
      "source": [
        "Let $Y$ denote a square matrix of size 10 with random values. Print the following:\n",
        "* Determinant\n",
        "* Rank of the matrix\n",
        "* Diagonal Elements\n",
        "* Trace\n",
        "* Eigen values\n",
        "* Matrices obtained after Singular Value Decomposition\n",
        "* Inverse if exists, otherwise Pseudo-Inverse\n",
        "* Multiplication $Y$ with $X$\n",
        "* Element-wise multiplication of $Y$ and its inverse(or pseudo-inverse)"
      ]
    },
    {
      "cell_type": "code",
      "metadata": {
        "id": "Tswbn9hgL7yi",
        "colab_type": "code",
        "colab": {
          "base_uri": "https://localhost:8080/",
          "height": 1000
        },
        "outputId": "5376ce75-3d78-416b-d6cf-1589a4a3f0d4"
      },
      "source": [
        "np.random.seed(3)\n",
        "Y = np.random.rand(10,10)\n",
        "print(f'determinant of Y: {np.linalg.det(Y)}')\n",
        "print(f'rank of the Y: {np.linalg.matrix_rank(Y)}')\n",
        "print(f'diagonal elements of matrix Y: {Y.diagonal()}')\n",
        "print(f'trace of matrix Y: {Y.trace()}')\n",
        "print(f'eigen values of matrix Y: {np.linalg.eigvals(Y)}')\n",
        "print(f'matrices obtained after svd: {np.linalg.svd(Y)}')\n",
        "print(f'inverse of martix Y: {np.linalg.inv(Y)}')\n",
        "print(f'multiplication of matrix Y with X i.e(Y*X): {np.matmul(Y, X)}')\n",
        "print(f'Element-wise multiplication of  𝑌  and its inverse(or pseudo-inverse): {np.dot(Y, np.linalg.inv(Y))}')"
      ],
      "execution_count": 64,
      "outputs": [
        {
          "output_type": "stream",
          "text": [
            "determinant of Y: -0.012807808169095483\n",
            "rank of the Y: 10\n",
            "diagonal elements of matrix Y: [0.5507979  0.45683322 0.44045372 0.84575087 0.4576864  0.36217621\n",
            " 0.06152893 0.19897603 0.92672568 0.19638058]\n",
            "trace of matrix Y: 4.497309545724899\n",
            "eigen values of matrix Y: [ 4.797525  +0.j          0.72411408+0.52238181j  0.72411408-0.52238181j\n",
            " -0.48250062+0.55413671j -0.48250062-0.55413671j -0.6909002 +0.j\n",
            " -0.25905659+0.32357377j -0.25905659-0.32357377j  0.2127855 +0.08352477j\n",
            "  0.2127855 -0.08352477j]\n",
            "matrices obtained after svd: (array([[-0.31776408, -0.02455508, -0.60644878, -0.17883359, -0.12672161,\n",
            "         0.14873878, -0.17823942, -0.52859453, -0.02295855, -0.38570883],\n",
            "       [-0.26118514, -0.10864541, -0.24911354,  0.26547359,  0.52168399,\n",
            "        -0.25773901, -0.46995326,  0.21752636, -0.39285046,  0.16234491],\n",
            "       [-0.31347907, -0.34483471, -0.25292297,  0.1214296 ,  0.1486964 ,\n",
            "         0.33436315,  0.54080229,  0.48017168,  0.05660692, -0.20966421],\n",
            "       [-0.35815379,  0.59490017,  0.30255161,  0.15850614, -0.11046295,\n",
            "         0.3051409 ,  0.07395537,  0.03044889, -0.50561658, -0.18384856],\n",
            "       [-0.28385845, -0.18085696, -0.1583078 ,  0.10535533, -0.46807835,\n",
            "        -0.08377643,  0.24075452, -0.16170764, -0.24786952,  0.69201648],\n",
            "       [-0.28871348, -0.27577124,  0.40271105,  0.60433658,  0.11931679,\n",
            "        -0.04899205,  0.02593316, -0.44875145,  0.27874747, -0.12964796],\n",
            "       [-0.27897316,  0.00398904,  0.20819753, -0.52536617,  0.41116881,\n",
            "        -0.41991923,  0.42687225, -0.24145621, -0.12958507, -0.00984813],\n",
            "       [-0.24788529,  0.48136836, -0.15792433, -0.02303902,  0.3246308 ,\n",
            "         0.25755952, -0.01429533, -0.03088365,  0.56052488,  0.44079262],\n",
            "       [-0.37505167, -0.36728578,  0.39799373, -0.45186801, -0.10830044,\n",
            "         0.34456765, -0.4447402 ,  0.14147957,  0.0716725 ,  0.09192695],\n",
            "       [-0.40049601,  0.19846099, -0.02705464,  0.02500837, -0.39745062,\n",
            "        -0.57941613, -0.10288216,  0.3673956 ,  0.33321483, -0.22039139]]), array([4.89636645, 1.42832104, 1.17173389, 0.94068764, 0.76892251,\n",
            "       0.62457278, 0.52105948, 0.28969576, 0.24512275, 0.09350223]), array([[-0.28816735, -0.35560525, -0.33294235, -0.33250662, -0.36658188,\n",
            "        -0.3625847 , -0.26573249, -0.23278667, -0.30457183, -0.29270444],\n",
            "       [ 0.53693497,  0.11306854,  0.39562078,  0.25099719, -0.07369559,\n",
            "        -0.37753546, -0.08584363,  0.00333609, -0.2399022 , -0.51623983],\n",
            "       [-0.084609  , -0.22589744, -0.00306935,  0.1954239 , -0.327784  ,\n",
            "        -0.49318928,  0.42323124,  0.18588504,  0.58200169,  0.02301787],\n",
            "       [ 0.01388163, -0.2631197 ,  0.42190391, -0.53612946,  0.01058633,\n",
            "        -0.04415909,  0.29385139,  0.49501812, -0.32731018,  0.15669071],\n",
            "       [-0.27340804,  0.28220631,  0.28945859, -0.1626885 ,  0.14790418,\n",
            "        -0.35915036, -0.64971879,  0.23854611,  0.29589227,  0.1337842 ],\n",
            "       [ 0.10830593,  0.27974551, -0.20571161,  0.10308827,  0.10096026,\n",
            "        -0.5325142 ,  0.15994871, -0.16150892, -0.3941055 ,  0.59692177],\n",
            "       [ 0.44882085,  0.34972045, -0.01773924, -0.50737391, -0.52251393,\n",
            "         0.11970007, -0.02807841, -0.20137782,  0.25705553,  0.15409283],\n",
            "       [-0.35599817, -0.05022624,  0.63427946,  0.20935183, -0.34847081,\n",
            "         0.11510691,  0.03182222, -0.47748403, -0.1161671 ,  0.21777064],\n",
            "       [ 0.18417681, -0.32168889,  0.15954963, -0.32397524,  0.5548368 ,\n",
            "        -0.1807982 ,  0.08626619, -0.55063636,  0.28439362, -0.01119242],\n",
            "       [-0.41560913,  0.59522266,  0.02089304, -0.23979844,  0.13515565,\n",
            "        -0.0893732 ,  0.44674689, -0.10709455, -0.02239562, -0.42098815]]))\n",
            "inverse of martix Y: [[ 2.31470983 -1.92264991  0.7642126   0.78096977 -2.74248585  1.20175092\n",
            "   0.38693174 -1.37664514 -0.96484143  0.83123246]\n",
            " [-2.24504111  1.25605742 -0.91466223 -0.39587642  4.71823627 -1.32162185\n",
            "   0.52594984  2.39368168  0.33051878 -2.33540101]\n",
            " [-1.41290916  0.66149939  0.94968095 -0.18869248 -0.50069581 -0.55664939\n",
            "  -0.55275157  0.57384943 -0.04209635  1.11025544]\n",
            " [ 0.88051129  0.37055438  0.15632501  1.25248223 -1.81219563 -0.7249179\n",
            "  -0.19613524 -1.81766381  0.56943994  0.52226388]\n",
            " [ 0.39743656 -0.28842728 -1.09880632 -1.57965965  0.36480771  0.90235521\n",
            "  -0.47743451  2.09911148  0.53638288 -0.04562024]\n",
            " [ 0.36068175  0.22958502  0.33426258  0.10367281 -0.06700744 -0.37158555\n",
            "   0.22972702 -1.26286862 -0.45133033  0.75430018]\n",
            " [-2.01045364  0.19347423 -1.01393804 -0.74303568  3.56449935 -0.31892146\n",
            "  -0.67116163  2.01265699  0.72873355 -0.69454601]\n",
            " [ 1.18043988  0.86047396 -0.88991494  1.30425635 -0.14247318  0.69661973\n",
            "   0.5413572  -1.69774697 -0.60797727 -1.00698216]\n",
            " [-0.1679456  -0.63197036 -0.0540802  -0.73587818 -0.46423184  0.67805628\n",
            "   0.88551393  0.37662528 -0.03416891  0.42341327]\n",
            " [ 1.3938872  -0.74982353  1.96636643  1.00676681 -3.21953806  0.44078124\n",
            "  -0.40298654 -1.90114336 -0.04414834  0.55576763]]\n",
            "multiplication of matrix Y with X i.e(Y*X): [[2.95726101 2.04939653 3.09073485 3.22311637 1.78554985]\n",
            " [2.61266989 1.75663954 2.48635951 2.79783984 1.50654432]\n",
            " [2.98361778 2.02894044 2.82637865 2.88685728 1.69799548]\n",
            " [2.98565892 2.85485651 3.58995669 4.0073463  2.2697569 ]\n",
            " [2.49815821 1.97791033 2.77809758 2.71690515 1.59098767]\n",
            " [2.72146909 2.39905911 2.58780909 2.78212857 1.71792628]\n",
            " [2.22935358 1.74438251 2.94718357 2.48955906 2.05838199]\n",
            " [2.30476788 1.92350098 2.41698824 2.81379687 1.38016019]\n",
            " [2.91925254 2.36604123 3.53647969 3.30424184 2.52990887]\n",
            " [3.39559098 2.84629279 4.05845051 4.01068273 2.35816262]]\n",
            "Element-wise multiplication of  𝑌  and its inverse(or pseudo-inverse): [[ 1.00000000e+00 -3.90793144e-17  3.65935406e-16  3.11342944e-16\n",
            "  -8.91983549e-16 -4.81506510e-17 -1.42655871e-16 -6.91246638e-16\n",
            "  -6.67910040e-17  1.33795870e-16]\n",
            " [ 1.42780307e-17  1.00000000e+00 -6.98095657e-17 -1.52151045e-16\n",
            "  -4.63427918e-16 -1.05178821e-16  4.44443766e-17 -9.87040861e-17\n",
            "   1.06466168e-16 -1.58597206e-16]\n",
            " [-1.44191947e-17 -4.68953161e-17  1.00000000e+00  4.77076242e-17\n",
            "  -6.49165003e-16 -6.78141792e-17 -9.36855690e-18 -9.73600834e-16\n",
            "  -3.16087494e-17 -1.18238356e-16]\n",
            " [-1.41735142e-16  2.10254036e-16  1.43559668e-17  1.00000000e+00\n",
            "   5.52648957e-17 -8.23073740e-18 -1.72594927e-18  7.33409702e-17\n",
            "   4.69571374e-17 -2.73245897e-16]\n",
            " [-1.71385362e-17 -3.79289464e-18 -2.27088068e-16  1.03307474e-16\n",
            "   1.00000000e+00 -2.64623779e-17  1.14447652e-16  2.15787383e-17\n",
            "  -1.42660749e-17 -2.17474454e-16]\n",
            " [-8.26384805e-17  1.20440776e-16 -4.69445243e-17 -3.74729367e-17\n",
            "   9.72134814e-16  1.00000000e+00  1.81161593e-17  2.13127233e-16\n",
            "  -7.72471485e-17 -1.30656837e-16]\n",
            " [ 3.53786975e-16  2.66066463e-18 -6.15228131e-17  1.38960755e-16\n",
            "  -1.33510130e-15  2.62173396e-17  1.00000000e+00 -3.76182195e-16\n",
            "  -7.02445804e-17  2.06159764e-16]\n",
            " [-2.75842016e-16 -7.28598118e-17 -2.34103860e-16  2.80898127e-17\n",
            "  -1.39319386e-16  1.41600267e-16 -4.52961673e-17  1.00000000e+00\n",
            "  -2.64462855e-17 -7.90426564e-17]\n",
            " [-6.53027597e-17  1.25653075e-16  5.18133677e-17  1.96668895e-17\n",
            "  -3.92404830e-16 -2.59855724e-17  2.19914269e-18  2.18871633e-17\n",
            "   1.00000000e+00 -5.87793126e-18]\n",
            " [-1.92650595e-16  2.94720021e-16  1.10584317e-16  1.69940671e-16\n",
            "   3.19180173e-16 -1.66979037e-17 -4.43339340e-17  3.56743742e-17\n",
            "  -9.06248767e-18  1.00000000e+00]]\n",
            "(10, 10) (10, 5)\n"
          ],
          "name": "stdout"
        }
      ]
    },
    {
      "cell_type": "markdown",
      "metadata": {
        "id": "Qne3RnfOL6-4",
        "colab_type": "text"
      },
      "source": [
        "## End of Part - 1\n",
        " --- --- ---"
      ]
    },
    {
      "cell_type": "markdown",
      "metadata": {
        "id": "LA-m4UYkMPTe",
        "colab_type": "text"
      },
      "source": [
        "## Part - 2\n",
        "---\n",
        "In this part, you will be working with the library ```pandas```. Import this library with an alias name ```pd```."
      ]
    },
    {
      "cell_type": "code",
      "metadata": {
        "id": "i8z7TpnZSIms",
        "colab_type": "code",
        "colab": {}
      },
      "source": [
        "# Initial imports\n",
        "import numpy as np\n",
        "import matplotlib.pyplot as plt\n"
      ],
      "execution_count": 0,
      "outputs": []
    },
    {
      "cell_type": "markdown",
      "metadata": {
        "id": "2v-HkHnyuQ3X",
        "colab_type": "text"
      },
      "source": [
        "Download dataset from: http://biostat.mc.vanderbilt.edu/wiki/pub/Main/DataSets/titanic3.csv\n",
        "Read the data and display the first 5 rows"
      ]
    },
    {
      "cell_type": "code",
      "metadata": {
        "id": "LinX5ywNTUIm",
        "colab_type": "code",
        "colab": {}
      },
      "source": [
        "#Download dataset from: http://biostat.mc.vanderbilt.edu/wiki/pub/Main/DataSets/titanic3.csv\n",
        "\n",
        "file_url = \"http://biostat.mc.vanderbilt.edu/wiki/pub/Main/DataSets/titanic3.csv\"\n",
        "\n"
      ],
      "execution_count": 0,
      "outputs": []
    },
    {
      "cell_type": "markdown",
      "metadata": {
        "id": "vTk1-mF5WYFN",
        "colab_type": "text"
      },
      "source": [
        "### Preprocessing of the Dataset"
      ]
    },
    {
      "cell_type": "markdown",
      "metadata": {
        "id": "kx9UrI9WWt17",
        "colab_type": "text"
      },
      "source": [
        "\n",
        "\n",
        "---\n",
        "\n",
        "\n",
        "**1. Convert the categorical values of columns 'sex', 'embarked', 'pclass' into dummy values and add them into titanic_data_new DataFrame**\n",
        "\n",
        "\n",
        "\n",
        "\n",
        "---\n",
        "\n"
      ]
    },
    {
      "cell_type": "code",
      "metadata": {
        "id": "AwDh9njbZ0QU",
        "colab_type": "code",
        "colab": {}
      },
      "source": [
        ""
      ],
      "execution_count": 0,
      "outputs": []
    },
    {
      "cell_type": "markdown",
      "metadata": {
        "id": "Z9bxOfzDbY-n",
        "colab_type": "text"
      },
      "source": [
        "\n",
        "\n",
        "---\n",
        "\n",
        "\n",
        "**2. Fill the missing data in Age and Fare columns with the mean value of the respected column then add these columns to titanic_data_new**\n",
        "\n",
        "\n",
        "---\n",
        "\n"
      ]
    },
    {
      "cell_type": "code",
      "metadata": {
        "id": "DNx7Pr0ehhAs",
        "colab_type": "code",
        "colab": {}
      },
      "source": [
        ""
      ],
      "execution_count": 0,
      "outputs": []
    },
    {
      "cell_type": "markdown",
      "metadata": {
        "id": "SlRzKfhxkd1M",
        "colab_type": "text"
      },
      "source": [
        "###Normalization\n",
        "\n",
        "\n",
        "---\n",
        "\n",
        "\n",
        "\n",
        "1. Normalize the columns which have numerical data\n",
        "\n",
        "\n",
        "\n",
        "---\n",
        "\n"
      ]
    },
    {
      "cell_type": "code",
      "metadata": {
        "id": "Y3hpu92TlM38",
        "colab_type": "code",
        "colab": {}
      },
      "source": [
        ""
      ],
      "execution_count": 0,
      "outputs": []
    },
    {
      "cell_type": "markdown",
      "metadata": {
        "id": "wB9-5x83mFAO",
        "colab_type": "text"
      },
      "source": [
        "\n",
        "\n",
        "---\n",
        "2. Drop the original age, fare columns\n",
        "3. Append the normalized columns to the titanic_data_new DataFrame.\n",
        "\n",
        "\n",
        "\n",
        "---\n",
        "\n"
      ]
    },
    {
      "cell_type": "code",
      "metadata": {
        "id": "Kb00kM0onQJy",
        "colab_type": "code",
        "colab": {}
      },
      "source": [
        ""
      ],
      "execution_count": 0,
      "outputs": []
    },
    {
      "cell_type": "markdown",
      "metadata": {
        "id": "uLxN3PozntKe",
        "colab_type": "text"
      },
      "source": [
        "###Plotting\n",
        "1. plot the age against the ID(continuous)\n",
        "2. plot the fare against the ID(scatter)"
      ]
    },
    {
      "cell_type": "code",
      "metadata": {
        "id": "LdSfNEKYn_RO",
        "colab_type": "code",
        "colab": {}
      },
      "source": [
        ""
      ],
      "execution_count": 0,
      "outputs": []
    },
    {
      "cell_type": "markdown",
      "metadata": {
        "id": "LQr7y6eevTvy",
        "colab_type": "text"
      },
      "source": [
        "## End of Part - 2\n",
        "---"
      ]
    },
    {
      "cell_type": "markdown",
      "metadata": {
        "id": "TWhZcKvfvW2B",
        "colab_type": "text"
      },
      "source": [
        "## Part - 3\n",
        "---"
      ]
    },
    {
      "cell_type": "markdown",
      "metadata": {
        "id": "8bY4H9DszQ2S",
        "colab_type": "text"
      },
      "source": [
        "In this part, you will work with the library ```matplotlib```. Import the ```pyplot``` from ```matplotlib``` with an alias name ```plt```."
      ]
    },
    {
      "cell_type": "code",
      "metadata": {
        "id": "hPN6qctRzknT",
        "colab_type": "code",
        "colab": {}
      },
      "source": [
        ""
      ],
      "execution_count": 0,
      "outputs": []
    },
    {
      "cell_type": "markdown",
      "metadata": {
        "id": "fQ6KX_Aezlub",
        "colab_type": "text"
      },
      "source": [
        "Plot the sine function with domain in $[-3\\pi,3\\pi]$. Label the axes appropriately. Add title $\\sin(x)$. Use latex formatting while adding the title. Set the plot size to (10,10)"
      ]
    },
    {
      "cell_type": "code",
      "metadata": {
        "id": "0tA3J5mA1cQ0",
        "colab_type": "code",
        "colab": {}
      },
      "source": [
        ""
      ],
      "execution_count": 0,
      "outputs": []
    },
    {
      "cell_type": "markdown",
      "metadata": {
        "id": "6KV7RqMm1d8P",
        "colab_type": "text"
      },
      "source": [
        "Plot $\\sin(x)$ and its spectrum, $\\cos(x)$ and its spectrum in a single plot, in the domain $[-2\\pi,2\\pi]$. Label the plot appropriately."
      ]
    },
    {
      "cell_type": "code",
      "metadata": {
        "id": "-OJuY0HO12Oo",
        "colab_type": "code",
        "colab": {}
      },
      "source": [
        ""
      ],
      "execution_count": 0,
      "outputs": []
    },
    {
      "cell_type": "markdown",
      "metadata": {
        "id": "1S6ZRm6B18ZF",
        "colab_type": "text"
      },
      "source": [
        "## End of Part - 3\n",
        "---"
      ]
    },
    {
      "cell_type": "markdown",
      "metadata": {
        "id": "MUucpzXBl096",
        "colab_type": "text"
      },
      "source": [
        "Create a Github repository with the name ***SHALA2020*** and save this assignment there."
      ]
    }
  ]
}